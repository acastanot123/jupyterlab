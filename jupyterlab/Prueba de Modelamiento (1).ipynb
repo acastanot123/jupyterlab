{
 "cells": [
  {
   "cell_type": "markdown",
   "metadata": {},
   "source": [
    "Prueba de Modelamiento \n",
    "==="
   ]
  },
  {
   "cell_type": "markdown",
   "metadata": {},
   "source": [
    "Por: Alexander Castaño Tamayo"
   ]
  },
  {
   "cell_type": "markdown",
   "metadata": {},
   "source": [
    "**Contexto:** Dado el riesgo de que se pueda presentar un evento desafortunado, como lo es un incidente de tránsito, una muerte o enfermedad inesperada, etc. Las personas buscan mitigar estos riesgos asegurándose mediante una póliza de diferente tipo, el cual dependerá del motivo o suceso que se desee mitigar (póliza de Salud, Vida o Automóviles). Es por esto, que para la compañía es de vital importancia conocer cuáles de los clientes que tienen una solución actualmente en algunas de sus pólizas de Salud, Vida o Automóviles pueden cancelarla para todo el periodo de tiempo comprendido en el año 2017, con la finalidad de anticiparse al evento en que se cancela alguna solución y realizar campañas de conservación de clientes. "
   ]
  },
  {
   "cell_type": "markdown",
   "metadata": {},
   "source": [
    "Se abordará la aplicación empírica de un modelo predictivo como lo es $GLM$ para la identificación de variables o factores que indiquen el posible abandono de una póliza una entidad aseguradora."
   ]
  },
  {
   "cell_type": "markdown",
   "metadata": {},
   "source": [
    "Para ello, se utilizará la base de datos con características socio demográficas de los **Clientes**. Esta contiene:"
   ]
  },
  {
   "cell_type": "markdown",
   "metadata": {},
   "source": [
    "* Fecha_Nacimiento: Fecha de nacimiento del cliente.\n",
    "* ipo_Identificacion_Cd: Tipo de documento que utiliza para identificarse.\n",
    "* Sexo_Cd: F es Femenino, M es Masculino.\n",
    "* Nm_Estrato_Vivienda: Estrato al que pertenece su lugar de vivienda.\n",
    "* Tipo_Persona_Cd: Natural, Jurídica.\n",
    "* Numero_Hijos: Cantidad de hijos. \n",
    "* Rango_Ingresos_Desc: Rango en el que se encuentran sus ingresos totales por mes.\n",
    "* Rango_Egresos_Desc: Rango en el que se encuentran todas las salidas de dinero por mes.\n",
    "* Estado_Civil_cd: Es Casado, Viudo, Divorciado, Soltero, Unión libre.\n",
    "* Ocupacion_Desc: Los más comunes son empleado/asalariado, jubilado, independiente.\n",
    "* Profesion_Desc: Profesión a la que se dedica.\n",
    "* Nivel_Estudios_Desc: Máximo nivel de estudios alcanzado.\n",
    "* Fecha_Inicio_Compania: Fecha en que inicio vinculación con la compañía.\n",
    "* Nombre_Departamento: Departamento de contacto."
   ]
  },
  {
   "cell_type": "code",
   "execution_count": 8,
   "metadata": {
    "scrolled": true
   },
   "outputs": [
    {
     "data": {
      "text/html": [
       "<table>\n",
       "<caption>A data.frame: 6 × 15</caption>\n",
       "<thead>\n",
       "\t<tr><th scope=col>Cliente_Id</th><th scope=col>Fecha_Nacimiento</th><th scope=col>Tipo_Identificacion_Cd</th><th scope=col>Sexo_Cd</th><th scope=col>Nm_Estrato_Vivienda</th><th scope=col>Tipo_Persona_Cd</th><th scope=col>Numero_Hijos</th><th scope=col>Rango_Ingresos_Desc</th><th scope=col>Rango_Egresos_Desc</th><th scope=col>Estado_Civil_cd</th><th scope=col>Ocupacion_Desc</th><th scope=col>Profesion_Desc</th><th scope=col>Nivel_Estudios_Desc</th><th scope=col>Fecha_Inicio_Compania</th><th scope=col>Nombre_Departamento</th></tr>\n",
       "\t<tr><th scope=col>&lt;int&gt;</th><th scope=col>&lt;fct&gt;</th><th scope=col>&lt;fct&gt;</th><th scope=col>&lt;fct&gt;</th><th scope=col>&lt;int&gt;</th><th scope=col>&lt;fct&gt;</th><th scope=col>&lt;int&gt;</th><th scope=col>&lt;fct&gt;</th><th scope=col>&lt;fct&gt;</th><th scope=col>&lt;fct&gt;</th><th scope=col>&lt;fct&gt;</th><th scope=col>&lt;fct&gt;</th><th scope=col>&lt;fct&gt;</th><th scope=col>&lt;fct&gt;</th><th scope=col>&lt;fct&gt;</th></tr>\n",
       "</thead>\n",
       "<tbody>\n",
       "\t<tr><td>1</td><td>1992/11/09</td><td>C</td><td>F</td><td>NA</td><td>N</td><td>NA</td><td>1 - 1'200.000        </td><td>1 - 1'200.000  </td><td>C </td><td>OTRA               </td><td>Sin Informacion         </td><td>TECNICO        </td><td>2015/11/12</td><td>ANTIOQUIA      </td></tr>\n",
       "\t<tr><td>2</td><td>1983/08/25</td><td>C</td><td>F</td><td> 3</td><td>N</td><td>NA</td><td>3'000.001 - 5'000.000</td><td>1 - 1'200.000  </td><td>S </td><td>EMPLEADO/ASALARIADO</td><td>NEGOCIOS INTERNACIONALES</td><td>Sin Informacion</td><td>2012/10/29</td><td>BOGOTA D.C.    </td></tr>\n",
       "\t<tr><td>3</td><td>1993/03/10</td><td>C</td><td>F</td><td>NA</td><td>N</td><td>NA</td><td>Sin Informacion      </td><td>Sin Informacion</td><td>NA</td><td>Sin Informacion    </td><td>Sin Informacion         </td><td>Sin Informacion</td><td>2015/12/07</td><td>VALLE DEL CAUCA</td></tr>\n",
       "\t<tr><td>4</td><td>1989/12/28</td><td>C</td><td>M</td><td>NA</td><td>N</td><td> 0</td><td>Sin Informacion      </td><td>Sin Informacion</td><td>S </td><td>ESTUDIANTE         </td><td>Sin Informacion         </td><td>Sin Informacion</td><td>2015/06/24</td><td>BOGOTA D.C.    </td></tr>\n",
       "\t<tr><td>5</td><td>1981/01/30</td><td>C</td><td>F</td><td> 2</td><td>N</td><td> 2</td><td>1 - 1'200.000        </td><td>1 - 1'200.000  </td><td>S </td><td>INDEPENDIENTE      </td><td>Sin Informacion         </td><td>Sin Informacion</td><td>2006/07/14</td><td>VALLE DEL CAUCA</td></tr>\n",
       "\t<tr><td>6</td><td>1995/03/29</td><td>C</td><td>M</td><td>NA</td><td>N</td><td>NA</td><td>Sin Informacion      </td><td>Sin Informacion</td><td>NA</td><td>Sin Informacion    </td><td>Sin Informacion         </td><td>Sin Informacion</td><td>2015/11/17</td><td>CALDAS         </td></tr>\n",
       "</tbody>\n",
       "</table>\n"
      ],
      "text/latex": [
       "A data.frame: 6 × 15\n",
       "\\begin{tabular}{r|lllllllllllllll}\n",
       " Cliente\\_Id & Fecha\\_Nacimiento & Tipo\\_Identificacion\\_Cd & Sexo\\_Cd & Nm\\_Estrato\\_Vivienda & Tipo\\_Persona\\_Cd & Numero\\_Hijos & Rango\\_Ingresos\\_Desc & Rango\\_Egresos\\_Desc & Estado\\_Civil\\_cd & Ocupacion\\_Desc & Profesion\\_Desc & Nivel\\_Estudios\\_Desc & Fecha\\_Inicio\\_Compania & Nombre\\_Departamento\\\\\n",
       " <int> & <fct> & <fct> & <fct> & <int> & <fct> & <int> & <fct> & <fct> & <fct> & <fct> & <fct> & <fct> & <fct> & <fct>\\\\\n",
       "\\hline\n",
       "\t 1 & 1992/11/09 & C & F & NA & N & NA & 1 - 1'200.000         & 1 - 1'200.000   & C  & OTRA                & Sin Informacion          & TECNICO         & 2015/11/12 & ANTIOQUIA      \\\\\n",
       "\t 2 & 1983/08/25 & C & F &  3 & N & NA & 3'000.001 - 5'000.000 & 1 - 1'200.000   & S  & EMPLEADO/ASALARIADO & NEGOCIOS INTERNACIONALES & Sin Informacion & 2012/10/29 & BOGOTA D.C.    \\\\\n",
       "\t 3 & 1993/03/10 & C & F & NA & N & NA & Sin Informacion       & Sin Informacion & NA & Sin Informacion     & Sin Informacion          & Sin Informacion & 2015/12/07 & VALLE DEL CAUCA\\\\\n",
       "\t 4 & 1989/12/28 & C & M & NA & N &  0 & Sin Informacion       & Sin Informacion & S  & ESTUDIANTE          & Sin Informacion          & Sin Informacion & 2015/06/24 & BOGOTA D.C.    \\\\\n",
       "\t 5 & 1981/01/30 & C & F &  2 & N &  2 & 1 - 1'200.000         & 1 - 1'200.000   & S  & INDEPENDIENTE       & Sin Informacion          & Sin Informacion & 2006/07/14 & VALLE DEL CAUCA\\\\\n",
       "\t 6 & 1995/03/29 & C & M & NA & N & NA & Sin Informacion       & Sin Informacion & NA & Sin Informacion     & Sin Informacion          & Sin Informacion & 2015/11/17 & CALDAS         \\\\\n",
       "\\end{tabular}\n"
      ],
      "text/markdown": [
       "\n",
       "A data.frame: 6 × 15\n",
       "\n",
       "| Cliente_Id &lt;int&gt; | Fecha_Nacimiento &lt;fct&gt; | Tipo_Identificacion_Cd &lt;fct&gt; | Sexo_Cd &lt;fct&gt; | Nm_Estrato_Vivienda &lt;int&gt; | Tipo_Persona_Cd &lt;fct&gt; | Numero_Hijos &lt;int&gt; | Rango_Ingresos_Desc &lt;fct&gt; | Rango_Egresos_Desc &lt;fct&gt; | Estado_Civil_cd &lt;fct&gt; | Ocupacion_Desc &lt;fct&gt; | Profesion_Desc &lt;fct&gt; | Nivel_Estudios_Desc &lt;fct&gt; | Fecha_Inicio_Compania &lt;fct&gt; | Nombre_Departamento &lt;fct&gt; |\n",
       "|---|---|---|---|---|---|---|---|---|---|---|---|---|---|---|\n",
       "| 1 | 1992/11/09 | C | F | NA | N | NA | 1 - 1'200.000         | 1 - 1'200.000   | C  | OTRA                | Sin Informacion          | TECNICO         | 2015/11/12 | ANTIOQUIA       |\n",
       "| 2 | 1983/08/25 | C | F |  3 | N | NA | 3'000.001 - 5'000.000 | 1 - 1'200.000   | S  | EMPLEADO/ASALARIADO | NEGOCIOS INTERNACIONALES | Sin Informacion | 2012/10/29 | BOGOTA D.C.     |\n",
       "| 3 | 1993/03/10 | C | F | NA | N | NA | Sin Informacion       | Sin Informacion | NA | Sin Informacion     | Sin Informacion          | Sin Informacion | 2015/12/07 | VALLE DEL CAUCA |\n",
       "| 4 | 1989/12/28 | C | M | NA | N |  0 | Sin Informacion       | Sin Informacion | S  | ESTUDIANTE          | Sin Informacion          | Sin Informacion | 2015/06/24 | BOGOTA D.C.     |\n",
       "| 5 | 1981/01/30 | C | F |  2 | N |  2 | 1 - 1'200.000         | 1 - 1'200.000   | S  | INDEPENDIENTE       | Sin Informacion          | Sin Informacion | 2006/07/14 | VALLE DEL CAUCA |\n",
       "| 6 | 1995/03/29 | C | M | NA | N | NA | Sin Informacion       | Sin Informacion | NA | Sin Informacion     | Sin Informacion          | Sin Informacion | 2015/11/17 | CALDAS          |\n",
       "\n"
      ],
      "text/plain": [
       "  Cliente_Id Fecha_Nacimiento Tipo_Identificacion_Cd Sexo_Cd\n",
       "1 1          1992/11/09       C                      F      \n",
       "2 2          1983/08/25       C                      F      \n",
       "3 3          1993/03/10       C                      F      \n",
       "4 4          1989/12/28       C                      M      \n",
       "5 5          1981/01/30       C                      F      \n",
       "6 6          1995/03/29       C                      M      \n",
       "  Nm_Estrato_Vivienda Tipo_Persona_Cd Numero_Hijos Rango_Ingresos_Desc  \n",
       "1 NA                  N               NA           1 - 1'200.000        \n",
       "2  3                  N               NA           3'000.001 - 5'000.000\n",
       "3 NA                  N               NA           Sin Informacion      \n",
       "4 NA                  N                0           Sin Informacion      \n",
       "5  2                  N                2           1 - 1'200.000        \n",
       "6 NA                  N               NA           Sin Informacion      \n",
       "  Rango_Egresos_Desc Estado_Civil_cd Ocupacion_Desc     \n",
       "1 1 - 1'200.000      C               OTRA               \n",
       "2 1 - 1'200.000      S               EMPLEADO/ASALARIADO\n",
       "3 Sin Informacion    NA              Sin Informacion    \n",
       "4 Sin Informacion    S               ESTUDIANTE         \n",
       "5 1 - 1'200.000      S               INDEPENDIENTE      \n",
       "6 Sin Informacion    NA              Sin Informacion    \n",
       "  Profesion_Desc           Nivel_Estudios_Desc Fecha_Inicio_Compania\n",
       "1 Sin Informacion          TECNICO             2015/11/12           \n",
       "2 NEGOCIOS INTERNACIONALES Sin Informacion     2012/10/29           \n",
       "3 Sin Informacion          Sin Informacion     2015/12/07           \n",
       "4 Sin Informacion          Sin Informacion     2015/06/24           \n",
       "5 Sin Informacion          Sin Informacion     2006/07/14           \n",
       "6 Sin Informacion          Sin Informacion     2015/11/17           \n",
       "  Nombre_Departamento\n",
       "1 ANTIOQUIA          \n",
       "2 BOGOTA D.C.        \n",
       "3 VALLE DEL CAUCA    \n",
       "4 BOGOTA D.C.        \n",
       "5 VALLE DEL CAUCA    \n",
       "6 CALDAS             "
      ]
     },
     "metadata": {},
     "output_type": "display_data"
    }
   ],
   "source": [
    "clientes <- read.csv2('CLIENTES.txt', header = T, na.strings = c('?', '-1'))\n",
    "head(clientes)"
   ]
  },
  {
   "cell_type": "markdown",
   "metadata": {},
   "source": [
    "También, se tienen bases de datos de las pólizas que comenzaron su vigencia entre los años 2014 y 2016, teniendo en cuenta su estado al corte del 31 de diciembre del 2016. Estas bases de datos contiene información de: \n",
    "\n",
    "* Poliza_Id: Identificador único para la póliza.\n",
    "* Fecha_Inicio_Primera_Vigencia: Fecha en que inicia la vigencia de la póliza.\n",
    "* Fecha_Cancelacion: Fecha de cancelación de la póliza.\n",
    "* Cliente_Id: Identificador único del Cliente en la compañía.\n",
    "* Ramos_Id: Hace referencia al tipo de evento que se desea cubrir, el código 26 corresponde a la solución A, el 78 a la solución B y el 16872 a la solución C."
   ]
  },
  {
   "cell_type": "markdown",
   "metadata": {},
   "source": [
    "Para este ejercicio, vamos a construir un modelo de deserción para calcular la probabilidad de que los clientes **Naturales** que tenga la solución **C** cancelen su póliza."
   ]
  },
  {
   "cell_type": "code",
   "execution_count": 13,
   "metadata": {},
   "outputs": [
    {
     "data": {
      "text/html": [
       "<table>\n",
       "<caption>A data.frame: 6 × 20</caption>\n",
       "<thead>\n",
       "\t<tr><th scope=col>Cliente_Id</th><th scope=col>Poliza_Id</th><th scope=col>Fecha_Inicio_Primera_Vigencia</th><th scope=col>Fecha_Cancelacion</th><th scope=col>Ramos_Id</th><th scope=col>año</th><th scope=col>Fecha_Nacimiento</th><th scope=col>Tipo_Identificacion_Cd</th><th scope=col>Sexo_Cd</th><th scope=col>Nm_Estrato_Vivienda</th><th scope=col>Tipo_Persona_Cd</th><th scope=col>Numero_Hijos</th><th scope=col>Rango_Ingresos_Desc</th><th scope=col>Rango_Egresos_Desc</th><th scope=col>Estado_Civil_cd</th><th scope=col>Ocupacion_Desc</th><th scope=col>Profesion_Desc</th><th scope=col>Nivel_Estudios_Desc</th><th scope=col>Fecha_Inicio_Compania</th><th scope=col>Nombre_Departamento</th></tr>\n",
       "\t<tr><th scope=col>&lt;int&gt;</th><th scope=col>&lt;int&gt;</th><th scope=col>&lt;fct&gt;</th><th scope=col>&lt;fct&gt;</th><th scope=col>&lt;int&gt;</th><th scope=col>&lt;dbl&gt;</th><th scope=col>&lt;fct&gt;</th><th scope=col>&lt;fct&gt;</th><th scope=col>&lt;fct&gt;</th><th scope=col>&lt;int&gt;</th><th scope=col>&lt;fct&gt;</th><th scope=col>&lt;int&gt;</th><th scope=col>&lt;fct&gt;</th><th scope=col>&lt;fct&gt;</th><th scope=col>&lt;fct&gt;</th><th scope=col>&lt;fct&gt;</th><th scope=col>&lt;fct&gt;</th><th scope=col>&lt;fct&gt;</th><th scope=col>&lt;fct&gt;</th><th scope=col>&lt;fct&gt;</th></tr>\n",
       "</thead>\n",
       "<tbody>\n",
       "\t<tr><td> 1</td><td>262093074</td><td>2015/11/12</td><td>NA        </td><td>16872</td><td>2015</td><td>1992/11/09</td><td>C</td><td>F</td><td>NA</td><td>N</td><td>NA</td><td>1 - 1'200.000        </td><td>1 - 1'200.000        </td><td>C</td><td>OTRA                      </td><td>Sin Informacion         </td><td>TECNICO        </td><td>2015/11/12</td><td>ANTIOQUIA      </td></tr>\n",
       "\t<tr><td> 2</td><td>251769194</td><td>2015/05/19</td><td>2016/05/19</td><td>16872</td><td>2015</td><td>1983/08/25</td><td>C</td><td>F</td><td> 3</td><td>N</td><td>NA</td><td>3'000.001 - 5'000.000</td><td>1 - 1'200.000        </td><td>S</td><td>EMPLEADO/ASALARIADO       </td><td>NEGOCIOS INTERNACIONALES</td><td>Sin Informacion</td><td>2012/10/29</td><td>BOGOTA D.C.    </td></tr>\n",
       "\t<tr><td> 5</td><td>261757926</td><td>2015/11/14</td><td>2016/08/14</td><td>16872</td><td>2015</td><td>1981/01/30</td><td>C</td><td>F</td><td> 2</td><td>N</td><td> 2</td><td>1 - 1'200.000        </td><td>1 - 1'200.000        </td><td>S</td><td>INDEPENDIENTE             </td><td>Sin Informacion         </td><td>Sin Informacion</td><td>2006/07/14</td><td>VALLE DEL CAUCA</td></tr>\n",
       "\t<tr><td> 8</td><td>255314284</td><td>2015/07/22</td><td>NA        </td><td>16872</td><td>2015</td><td>1990/02/07</td><td>C</td><td>M</td><td> 3</td><td>N</td><td> 0</td><td>MAS DE 5'000.000     </td><td>1'200.001 - 3'000.000</td><td>S</td><td>EMPLEADO/ASALARIADO       </td><td>INGENIERO               </td><td>TECNICO        </td><td>2012/01/02</td><td>ANTIOQUIA      </td></tr>\n",
       "\t<tr><td>22</td><td>271897486</td><td>2016/04/07</td><td>2016/11/29</td><td>16872</td><td>2016</td><td>1990/12/10</td><td>C</td><td>F</td><td>NA</td><td>N</td><td>NA</td><td>1'200.001 - 3'000.000</td><td>1 - 1'200.000        </td><td>S</td><td>ABARROTEROS               </td><td>ENFERMERO               </td><td>Sin Informacion</td><td>2013/02/22</td><td>VALLE DEL CAUCA</td></tr>\n",
       "\t<tr><td>43</td><td>267056618</td><td>2016/02/19</td><td>NA        </td><td>16872</td><td>2016</td><td>1972/02/26</td><td>C</td><td>F</td><td>NA</td><td>N</td><td> 0</td><td>1'200.001 - 3'000.000</td><td>1'200.001 - 3'000.000</td><td>S</td><td>EMPLEADO (TIEMPO COMPLETO)</td><td>CONTADOR                </td><td>Sin Informacion</td><td>2009/11/27</td><td>MAGDALENA      </td></tr>\n",
       "</tbody>\n",
       "</table>\n"
      ],
      "text/latex": [
       "A data.frame: 6 × 20\n",
       "\\begin{tabular}{r|llllllllllllllllllll}\n",
       " Cliente\\_Id & Poliza\\_Id & Fecha\\_Inicio\\_Primera\\_Vigencia & Fecha\\_Cancelacion & Ramos\\_Id & año & Fecha\\_Nacimiento & Tipo\\_Identificacion\\_Cd & Sexo\\_Cd & Nm\\_Estrato\\_Vivienda & Tipo\\_Persona\\_Cd & Numero\\_Hijos & Rango\\_Ingresos\\_Desc & Rango\\_Egresos\\_Desc & Estado\\_Civil\\_cd & Ocupacion\\_Desc & Profesion\\_Desc & Nivel\\_Estudios\\_Desc & Fecha\\_Inicio\\_Compania & Nombre\\_Departamento\\\\\n",
       " <int> & <int> & <fct> & <fct> & <int> & <dbl> & <fct> & <fct> & <fct> & <int> & <fct> & <int> & <fct> & <fct> & <fct> & <fct> & <fct> & <fct> & <fct> & <fct>\\\\\n",
       "\\hline\n",
       "\t  1 & 262093074 & 2015/11/12 & NA         & 16872 & 2015 & 1992/11/09 & C & F & NA & N & NA & 1 - 1'200.000         & 1 - 1'200.000         & C & OTRA                       & Sin Informacion          & TECNICO         & 2015/11/12 & ANTIOQUIA      \\\\\n",
       "\t  2 & 251769194 & 2015/05/19 & 2016/05/19 & 16872 & 2015 & 1983/08/25 & C & F &  3 & N & NA & 3'000.001 - 5'000.000 & 1 - 1'200.000         & S & EMPLEADO/ASALARIADO        & NEGOCIOS INTERNACIONALES & Sin Informacion & 2012/10/29 & BOGOTA D.C.    \\\\\n",
       "\t  5 & 261757926 & 2015/11/14 & 2016/08/14 & 16872 & 2015 & 1981/01/30 & C & F &  2 & N &  2 & 1 - 1'200.000         & 1 - 1'200.000         & S & INDEPENDIENTE              & Sin Informacion          & Sin Informacion & 2006/07/14 & VALLE DEL CAUCA\\\\\n",
       "\t  8 & 255314284 & 2015/07/22 & NA         & 16872 & 2015 & 1990/02/07 & C & M &  3 & N &  0 & MAS DE 5'000.000      & 1'200.001 - 3'000.000 & S & EMPLEADO/ASALARIADO        & INGENIERO                & TECNICO         & 2012/01/02 & ANTIOQUIA      \\\\\n",
       "\t 22 & 271897486 & 2016/04/07 & 2016/11/29 & 16872 & 2016 & 1990/12/10 & C & F & NA & N & NA & 1'200.001 - 3'000.000 & 1 - 1'200.000         & S & ABARROTEROS                & ENFERMERO                & Sin Informacion & 2013/02/22 & VALLE DEL CAUCA\\\\\n",
       "\t 43 & 267056618 & 2016/02/19 & NA         & 16872 & 2016 & 1972/02/26 & C & F & NA & N &  0 & 1'200.001 - 3'000.000 & 1'200.001 - 3'000.000 & S & EMPLEADO (TIEMPO COMPLETO) & CONTADOR                 & Sin Informacion & 2009/11/27 & MAGDALENA      \\\\\n",
       "\\end{tabular}\n"
      ],
      "text/markdown": [
       "\n",
       "A data.frame: 6 × 20\n",
       "\n",
       "| Cliente_Id &lt;int&gt; | Poliza_Id &lt;int&gt; | Fecha_Inicio_Primera_Vigencia &lt;fct&gt; | Fecha_Cancelacion &lt;fct&gt; | Ramos_Id &lt;int&gt; | año &lt;dbl&gt; | Fecha_Nacimiento &lt;fct&gt; | Tipo_Identificacion_Cd &lt;fct&gt; | Sexo_Cd &lt;fct&gt; | Nm_Estrato_Vivienda &lt;int&gt; | Tipo_Persona_Cd &lt;fct&gt; | Numero_Hijos &lt;int&gt; | Rango_Ingresos_Desc &lt;fct&gt; | Rango_Egresos_Desc &lt;fct&gt; | Estado_Civil_cd &lt;fct&gt; | Ocupacion_Desc &lt;fct&gt; | Profesion_Desc &lt;fct&gt; | Nivel_Estudios_Desc &lt;fct&gt; | Fecha_Inicio_Compania &lt;fct&gt; | Nombre_Departamento &lt;fct&gt; |\n",
       "|---|---|---|---|---|---|---|---|---|---|---|---|---|---|---|---|---|---|---|---|\n",
       "|  1 | 262093074 | 2015/11/12 | NA         | 16872 | 2015 | 1992/11/09 | C | F | NA | N | NA | 1 - 1'200.000         | 1 - 1'200.000         | C | OTRA                       | Sin Informacion          | TECNICO         | 2015/11/12 | ANTIOQUIA       |\n",
       "|  2 | 251769194 | 2015/05/19 | 2016/05/19 | 16872 | 2015 | 1983/08/25 | C | F |  3 | N | NA | 3'000.001 - 5'000.000 | 1 - 1'200.000         | S | EMPLEADO/ASALARIADO        | NEGOCIOS INTERNACIONALES | Sin Informacion | 2012/10/29 | BOGOTA D.C.     |\n",
       "|  5 | 261757926 | 2015/11/14 | 2016/08/14 | 16872 | 2015 | 1981/01/30 | C | F |  2 | N |  2 | 1 - 1'200.000         | 1 - 1'200.000         | S | INDEPENDIENTE              | Sin Informacion          | Sin Informacion | 2006/07/14 | VALLE DEL CAUCA |\n",
       "|  8 | 255314284 | 2015/07/22 | NA         | 16872 | 2015 | 1990/02/07 | C | M |  3 | N |  0 | MAS DE 5'000.000      | 1'200.001 - 3'000.000 | S | EMPLEADO/ASALARIADO        | INGENIERO                | TECNICO         | 2012/01/02 | ANTIOQUIA       |\n",
       "| 22 | 271897486 | 2016/04/07 | 2016/11/29 | 16872 | 2016 | 1990/12/10 | C | F | NA | N | NA | 1'200.001 - 3'000.000 | 1 - 1'200.000         | S | ABARROTEROS                | ENFERMERO                | Sin Informacion | 2013/02/22 | VALLE DEL CAUCA |\n",
       "| 43 | 267056618 | 2016/02/19 | NA         | 16872 | 2016 | 1972/02/26 | C | F | NA | N |  0 | 1'200.001 - 3'000.000 | 1'200.001 - 3'000.000 | S | EMPLEADO (TIEMPO COMPLETO) | CONTADOR                 | Sin Informacion | 2009/11/27 | MAGDALENA       |\n",
       "\n"
      ],
      "text/plain": [
       "  Cliente_Id Poliza_Id Fecha_Inicio_Primera_Vigencia Fecha_Cancelacion Ramos_Id\n",
       "1  1         262093074 2015/11/12                    NA                16872   \n",
       "2  2         251769194 2015/05/19                    2016/05/19        16872   \n",
       "3  5         261757926 2015/11/14                    2016/08/14        16872   \n",
       "4  8         255314284 2015/07/22                    NA                16872   \n",
       "5 22         271897486 2016/04/07                    2016/11/29        16872   \n",
       "6 43         267056618 2016/02/19                    NA                16872   \n",
       "  año  Fecha_Nacimiento Tipo_Identificacion_Cd Sexo_Cd Nm_Estrato_Vivienda\n",
       "1 2015 1992/11/09       C                      F       NA                 \n",
       "2 2015 1983/08/25       C                      F        3                 \n",
       "3 2015 1981/01/30       C                      F        2                 \n",
       "4 2015 1990/02/07       C                      M        3                 \n",
       "5 2016 1990/12/10       C                      F       NA                 \n",
       "6 2016 1972/02/26       C                      F       NA                 \n",
       "  Tipo_Persona_Cd Numero_Hijos Rango_Ingresos_Desc   Rango_Egresos_Desc   \n",
       "1 N               NA           1 - 1'200.000         1 - 1'200.000        \n",
       "2 N               NA           3'000.001 - 5'000.000 1 - 1'200.000        \n",
       "3 N                2           1 - 1'200.000         1 - 1'200.000        \n",
       "4 N                0           MAS DE 5'000.000      1'200.001 - 3'000.000\n",
       "5 N               NA           1'200.001 - 3'000.000 1 - 1'200.000        \n",
       "6 N                0           1'200.001 - 3'000.000 1'200.001 - 3'000.000\n",
       "  Estado_Civil_cd Ocupacion_Desc             Profesion_Desc          \n",
       "1 C               OTRA                       Sin Informacion         \n",
       "2 S               EMPLEADO/ASALARIADO        NEGOCIOS INTERNACIONALES\n",
       "3 S               INDEPENDIENTE              Sin Informacion         \n",
       "4 S               EMPLEADO/ASALARIADO        INGENIERO               \n",
       "5 S               ABARROTEROS                ENFERMERO               \n",
       "6 S               EMPLEADO (TIEMPO COMPLETO) CONTADOR                \n",
       "  Nivel_Estudios_Desc Fecha_Inicio_Compania Nombre_Departamento\n",
       "1 TECNICO             2015/11/12            ANTIOQUIA          \n",
       "2 Sin Informacion     2012/10/29            BOGOTA D.C.        \n",
       "3 Sin Informacion     2006/07/14            VALLE DEL CAUCA    \n",
       "4 TECNICO             2012/01/02            ANTIOQUIA          \n",
       "5 Sin Informacion     2013/02/22            VALLE DEL CAUCA    \n",
       "6 Sin Informacion     2009/11/27            MAGDALENA          "
      ]
     },
     "metadata": {},
     "output_type": "display_data"
    }
   ],
   "source": [
    "# Cargamos la base de datos de pólizas, filtramos las pólizas tipo C y agrupamos en una sóla base de datos con información de clientes\n",
    "poli2014 <- read.table('POLI2014.txt', header = T, na.strings='?') \n",
    "poli2014$año <- 2014\n",
    "poli2015 <- read.table('POLI2015.txt', header = T, na.strings='?')\n",
    "poli2015$año <- 2015\n",
    "poli2016 <- read.table('POLI2016.txt', header = T, na.strings='?')\n",
    "poli2016$año <- 2016 \n",
    "\n",
    "poli_c <- rbind.data.frame(\n",
    "  subset(poli2014, poli2014$Ramos_Id==16872),\n",
    "  subset(poli2015, poli2015$Ramos_Id==16872),\n",
    "  subset(poli2016, poli2016$Ramos_Id==16872)\n",
    "                            )\n",
    "poli_client <- merge(poli_c, clientes, \n",
    "                     by= \"Cliente_Id\")\n",
    "head(poli_client)"
   ]
  },
  {
   "cell_type": "markdown",
   "metadata": {},
   "source": [
    "---\n",
    "## Regresión logística\n",
    "---"
   ]
  },
  {
   "cell_type": "markdown",
   "metadata": {},
   "source": [
    "La Regresión Logística Simple, desarrollada por David Cox en 1958, es un método de regresión que permite estimar la probabilidad de una variable cualitativa binaria en función de una variable cuantitativa. Una de las principales aplicaciones de la regresión logística es la de clasificación binaria, en el que las observaciones se clasifican en un grupo u otro dependiendo del valor que tome la variable empleada como predictor. Por ejemplo, clasificar a un individuo desconocido como hombre o mujer en función del tamaño de la mandíbula."
   ]
  },
  {
   "cell_type": "markdown",
   "metadata": {},
   "source": [
    "Es importante tener en cuenta que, aunque la regresión logística permite clasificar, se trata de un modelo de regresión que modela el logaritmo de la probabilidad de pertenecer a cada grupo. La asignación final se hace en función de las probabilidades predichas."
   ]
  },
  {
   "cell_type": "markdown",
   "metadata": {},
   "source": [
    "### ¿Por qué regresión logística y no lineal? ###"
   ]
  },
  {
   "cell_type": "markdown",
   "metadata": {},
   "source": [
    "Si una variable cualitativa con dos niveles se codifica como 1 y 0, matemáticamente es posible ajustar un modelo de regresión lineal por mínimos cuadrados $β_0$+$β_1$$X$. El problema de esta aproximación es que, al tratarse de una recta, para valores extremos del predictor, se obtienen valores de $Y$ menores que 0 o mayores que 1, lo que entra en contradicción con el hecho de que las probabilidades siempre están dentro del rango [0,1]."
   ]
  },
  {
   "cell_type": "markdown",
   "metadata": {},
   "source": [
    "Para evitar estos problemas, la regresión logística transforma el valor devuelto por la regresión lineal ($β_0$$+$$β_1$$X$) empleando una función cuyo resultado está siempre comprendido entre 0 y 1. Existen varias funciones que cumplen esta descripción, una de las más utilizadas es la función logística."
   ]
  },
  {
   "cell_type": "markdown",
   "metadata": {},
   "source": [
    "En la regresión lineal simple, se modela el valor de la variable dependiente $Y$ en función del valor de la variable independiente $X$. Sin embargo, en la regresión logística, se modela la probabilidad de que la variable respuesta $Y$ pertenezca al nivel de referencia 1 en función del valor que adquieran los predictores, mediante el uso de $LOG$ of $ODDs$."
   ]
  },
  {
   "cell_type": "markdown",
   "metadata": {},
   "source": [
    "Supóngase que la probabilidad de que un evento sea verdadero es de 0.8, por lo que la probabilidad de evento falso es de 1 - 0.8 = 0.2. Los $ODDs$ o razón de probabilidad de verdadero se definen como el ratio entre la probabilidad de evento verdadero y la probabilidad de evento falso p/q. En este caso los $ODDs$ de verdadero son 0.8 / 0.2 = 4, lo que equivale a decir que se esperan 4 eventos verdaderos por cada evento falso."
   ]
  },
  {
   "cell_type": "markdown",
   "metadata": {},
   "source": [
    "---\n",
    "### Preparación de la base de datos \n",
    "---"
   ]
  },
  {
   "cell_type": "markdown",
   "metadata": {},
   "source": [
    "En la base de datos consolidad hay algunas variables de fecha, las cuales deben ser modificadas para crear indicadores que den cuenta, por ejemplo, de la edad de los clientes, la antiguedad de la póliza, entre otras. "
   ]
  },
  {
   "cell_type": "code",
   "execution_count": 18,
   "metadata": {},
   "outputs": [],
   "source": [
    "# Orgnizamos la variables de fechas y creamos indicadores adicionales\n",
    "poli_client$Fecha_Inicio_Primera_Vigencia <- as.Date(poli_client$Fecha_Inicio_Primera_Vigencia,'%Y/%m/%d')\n",
    "poli_client$Fecha_Cancelacion <- as.Date(poli_client$Fecha_Cancelacion,'%Y/%m/%d')\n",
    "poli_client$Fecha_Nacimiento <- as.Date(poli_client$Fecha_Nacimiento,'%Y/%m/%d')\n",
    "poli_client$Fecha_Inicio_Compania <- as.Date(poli_client$Fecha_Inicio_Compania, '%Y/%m/%d')\n",
    "poli_client$antiguedad <- ifelse(is.na(poli_client$Fecha_Cancelacion),\n",
    "                                 as.Date('2019-06-21')-poli_client$Fecha_Inicio_Compania, \n",
    "                                 poli_client$Fecha_Cancelacion-poli_client$Fecha_Inicio_Compania)/365\n",
    "poli_client$edad <- as.numeric(as.Date('2019-06-21')-poli_client$Fecha_Nacimiento)/365"
   ]
  },
  {
   "cell_type": "markdown",
   "metadata": {},
   "source": [
    "Estas variables de fecha también son útiles al momento de señalar cuál póliza continua vigente y cuál ha sido cancelada"
   ]
  },
  {
   "cell_type": "code",
   "execution_count": 19,
   "metadata": {},
   "outputs": [],
   "source": [
    "# Definimos el indicador de cancelación\n",
    "poli_client$cancelada <- ifelse(is.na(poli_client$Fecha_Cancelacion),0,1)"
   ]
  },
  {
   "cell_type": "markdown",
   "metadata": {},
   "source": [
    "Ahora bien, las demás variables con información socio demográfica de los clientes deben ser agrupadas y recategorizadas para facilitar su manipulación, visualización e interpretación: "
   ]
  },
  {
   "cell_type": "code",
   "execution_count": 23,
   "metadata": {},
   "outputs": [],
   "source": [
    "# generando categorias de la variable ingreso\n",
    "ingresos.t <- as.numeric(poli_client$Rango_Ingresos_Desc)\n",
    "ingresos2 <- vector()\n",
    "ingresos2[ingresos.t==1] <- 2\n",
    "ingresos2[ingresos.t==2] <- 1\n",
    "ingresos2[ingresos.t==3] <- 4\n",
    "ingresos2[ingresos.t==9] <- 3\n",
    "ingresos2[ingresos.t==19] <- 0 # sin información\n",
    "ingresos2[is.na(ingresos2)] <- 4\n",
    "ingresos2 <- as.factor(ingresos2)\n",
    "poli_client$ingresos <- ingresos2"
   ]
  },
  {
   "cell_type": "code",
   "execution_count": 24,
   "metadata": {},
   "outputs": [],
   "source": [
    "# generando categorias de la variable egreso\n",
    "egresos.t <- as.numeric(poli_client$Rango_Egresos_Desc)\n",
    "egresos2 <- vector()\n",
    "egresos2[egresos.t==1] <- 2\n",
    "egresos2[egresos.t==2] <- 1\n",
    "egresos2[egresos.t==3] <- 4\n",
    "egresos2[egresos.t==10] <- 3\n",
    "egresos2[egresos.t==20] <- 0 # sin informaci?n\n",
    "egresos2[is.na(egresos2)] <- 4\n",
    "egresos2 <- as.factor(egresos2)\n",
    "poli_client$egresos <- egresos2"
   ]
  },
  {
   "cell_type": "code",
   "execution_count": 25,
   "metadata": {},
   "outputs": [],
   "source": [
    "# categorizando estado civil\n",
    "estado.t <- as.numeric(poli_client$Estado_Civil_cd)\n",
    "estado2 <- vector()\n",
    "estado2[estado.t==1] <- 'C'\n",
    "estado2[estado.t==2] <- 'DS'\n",
    "estado2[estado.t==3] <- 'DS'# Se agrupan las categorías S y D\n",
    "estado2[estado.t==4] <- 'U'\n",
    "estado2[estado.t==5] <- 'V'\n",
    "estado2 <- as.factor(estado2)\n",
    "poli_client$estado <- estado2"
   ]
  },
  {
   "cell_type": "code",
   "execution_count": 26,
   "metadata": {},
   "outputs": [],
   "source": [
    "# Recategorizando la variable ocupación\n",
    "ocu.t <- as.numeric(poli_client$Ocupacion_Desc)\n",
    "ocu2 <- vector()\n",
    "ocu2[ocu.t==175] <- 'I' #Rentistas e independientes\n",
    "ocu2[ocu.t==197] <- 'I'\n",
    "ocu2[ocu.t==201] <- 'I'\n",
    "ocu2[ocu.t==277] <- 'I'\n",
    "ocu2[ocu.t==288] <- 'sin info'\n",
    "ocu2[is.na(ocu2)] <- 'E'\n",
    "ocu2 <- as.factor(ocu2)\n",
    "poli_client$ocupacion <- ocu2"
   ]
  },
  {
   "cell_type": "code",
   "execution_count": 27,
   "metadata": {},
   "outputs": [],
   "source": [
    "# Recategorizando la variable estudios\n",
    "est.t <- as.numeric(poli_client$Nivel_Estudios_Desc)\n",
    "est2 <- vector()\n",
    "est2[est.t==1] <- 'O' #bachillerato\n",
    "est2[est.t==3] <- 'O' #ninguno\n",
    "est2[est.t==7] <- 'O' #Primaria\n",
    "est2[est.t==4] <- 'O' #otro\n",
    "est2[est.t==8] <- 'sin info'  \n",
    "est2[est.t==9] <- 'T' #técnico\n",
    "est2[est.t==6] <- 'U' #pregrado\n",
    "est2[est.t==2] <- 'U' #maestria\n",
    "est2[est.t==5] <- 'U' #posgrado\n",
    "est2[est.t==10] <- 'T' #tecno\n",
    "est2 <- as.factor(est2)\n",
    "poli_client$estudios <- est2"
   ]
  },
  {
   "cell_type": "code",
   "execution_count": 28,
   "metadata": {},
   "outputs": [],
   "source": [
    "# Recategorizando la variable departamento\n",
    "dep.t <- as.numeric(poli_client$Nombre_Departamento)\n",
    "dep2 <- vector()\n",
    "dep2[dep.t==3] <- 'ant'\n",
    "dep2[dep.t==8] <- 'bog'\n",
    "dep2[dep.t==47] <- 'val'\n",
    "dep2[dep.t==43] <- 'san'\n",
    "dep2[dep.t==5] <- 'atl'\n",
    "dep2[is.na(dep2)] <- 'otro'\n",
    "dep2 <- as.factor(dep2)\n",
    "poli_client$depto <- dep2"
   ]
  },
  {
   "cell_type": "code",
   "execution_count": 29,
   "metadata": {},
   "outputs": [],
   "source": [
    "# Categorizando la variable antiguedad\n",
    "poli_client$antig <- ifelse(poli_client$antiguedad<1, 1,\n",
    "                ifelse(poli_client$antiguedad<=2, 2,\n",
    "                       ifelse(poli_client$antiguedad<=3, 3,\n",
    "                              ifelse(poli_client$antiguedad<=4, 4,\n",
    "                                     ifelse(poli_client$antiguedad<=5, 5,\n",
    "                                            6)))))"
   ]
  },
  {
   "cell_type": "markdown",
   "metadata": {},
   "source": [
    "Ya con las categorías de las variables organizadas, podemos genrar una base de datos con la información que nos interesa para la estimación de nuestro modelo. "
   ]
  },
  {
   "cell_type": "code",
   "execution_count": 32,
   "metadata": {},
   "outputs": [
    {
     "data": {
      "text/html": [
       "<table>\n",
       "<caption>A data.frame: 6 × 14</caption>\n",
       "<thead>\n",
       "\t<tr><th scope=col>Cliente_Id</th><th scope=col>Poliza_Id</th><th scope=col>cancelada</th><th scope=col>Sexo_Cd</th><th scope=col>Nm_Estrato_Vivienda</th><th scope=col>Numero_Hijos</th><th scope=col>edad</th><th scope=col>ingresos</th><th scope=col>egresos</th><th scope=col>estado</th><th scope=col>ocupacion</th><th scope=col>estudios</th><th scope=col>depto</th><th scope=col>antig</th></tr>\n",
       "\t<tr><th scope=col>&lt;int&gt;</th><th scope=col>&lt;int&gt;</th><th scope=col>&lt;dbl&gt;</th><th scope=col>&lt;fct&gt;</th><th scope=col>&lt;int&gt;</th><th scope=col>&lt;int&gt;</th><th scope=col>&lt;dbl&gt;</th><th scope=col>&lt;fct&gt;</th><th scope=col>&lt;fct&gt;</th><th scope=col>&lt;fct&gt;</th><th scope=col>&lt;fct&gt;</th><th scope=col>&lt;fct&gt;</th><th scope=col>&lt;fct&gt;</th><th scope=col>&lt;dbl&gt;</th></tr>\n",
       "</thead>\n",
       "<tbody>\n",
       "\t<tr><td> 1</td><td>262093074</td><td>0</td><td>F</td><td>NA</td><td>NA</td><td>26.63014</td><td>2</td><td>2</td><td>C </td><td>E</td><td>T       </td><td>ant </td><td>4</td></tr>\n",
       "\t<tr><td> 2</td><td>251769194</td><td>1</td><td>F</td><td> 3</td><td>NA</td><td>35.84658</td><td>4</td><td>2</td><td>DS</td><td>E</td><td>sin info</td><td>bog </td><td>4</td></tr>\n",
       "\t<tr><td> 5</td><td>261757926</td><td>1</td><td>F</td><td> 2</td><td> 2</td><td>38.41370</td><td>2</td><td>2</td><td>DS</td><td>I</td><td>sin info</td><td>val </td><td>6</td></tr>\n",
       "\t<tr><td> 8</td><td>255314284</td><td>0</td><td>M</td><td> 3</td><td> 0</td><td>29.38630</td><td>4</td><td>4</td><td>DS</td><td>E</td><td>T       </td><td>ant </td><td>6</td></tr>\n",
       "\t<tr><td>22</td><td>271897486</td><td>1</td><td>F</td><td>NA</td><td>NA</td><td>28.54795</td><td>4</td><td>2</td><td>DS</td><td>E</td><td>sin info</td><td>val </td><td>4</td></tr>\n",
       "\t<tr><td>43</td><td>267056618</td><td>0</td><td>F</td><td>NA</td><td> 0</td><td>47.34795</td><td>4</td><td>4</td><td>DS</td><td>E</td><td>sin info</td><td>otro</td><td>6</td></tr>\n",
       "</tbody>\n",
       "</table>\n"
      ],
      "text/latex": [
       "A data.frame: 6 × 14\n",
       "\\begin{tabular}{r|llllllllllllll}\n",
       " Cliente\\_Id & Poliza\\_Id & cancelada & Sexo\\_Cd & Nm\\_Estrato\\_Vivienda & Numero\\_Hijos & edad & ingresos & egresos & estado & ocupacion & estudios & depto & antig\\\\\n",
       " <int> & <int> & <dbl> & <fct> & <int> & <int> & <dbl> & <fct> & <fct> & <fct> & <fct> & <fct> & <fct> & <dbl>\\\\\n",
       "\\hline\n",
       "\t  1 & 262093074 & 0 & F & NA & NA & 26.63014 & 2 & 2 & C  & E & T        & ant  & 4\\\\\n",
       "\t  2 & 251769194 & 1 & F &  3 & NA & 35.84658 & 4 & 2 & DS & E & sin info & bog  & 4\\\\\n",
       "\t  5 & 261757926 & 1 & F &  2 &  2 & 38.41370 & 2 & 2 & DS & I & sin info & val  & 6\\\\\n",
       "\t  8 & 255314284 & 0 & M &  3 &  0 & 29.38630 & 4 & 4 & DS & E & T        & ant  & 6\\\\\n",
       "\t 22 & 271897486 & 1 & F & NA & NA & 28.54795 & 4 & 2 & DS & E & sin info & val  & 4\\\\\n",
       "\t 43 & 267056618 & 0 & F & NA &  0 & 47.34795 & 4 & 4 & DS & E & sin info & otro & 6\\\\\n",
       "\\end{tabular}\n"
      ],
      "text/markdown": [
       "\n",
       "A data.frame: 6 × 14\n",
       "\n",
       "| Cliente_Id &lt;int&gt; | Poliza_Id &lt;int&gt; | cancelada &lt;dbl&gt; | Sexo_Cd &lt;fct&gt; | Nm_Estrato_Vivienda &lt;int&gt; | Numero_Hijos &lt;int&gt; | edad &lt;dbl&gt; | ingresos &lt;fct&gt; | egresos &lt;fct&gt; | estado &lt;fct&gt; | ocupacion &lt;fct&gt; | estudios &lt;fct&gt; | depto &lt;fct&gt; | antig &lt;dbl&gt; |\n",
       "|---|---|---|---|---|---|---|---|---|---|---|---|---|---|\n",
       "|  1 | 262093074 | 0 | F | NA | NA | 26.63014 | 2 | 2 | C  | E | T        | ant  | 4 |\n",
       "|  2 | 251769194 | 1 | F |  3 | NA | 35.84658 | 4 | 2 | DS | E | sin info | bog  | 4 |\n",
       "|  5 | 261757926 | 1 | F |  2 |  2 | 38.41370 | 2 | 2 | DS | I | sin info | val  | 6 |\n",
       "|  8 | 255314284 | 0 | M |  3 |  0 | 29.38630 | 4 | 4 | DS | E | T        | ant  | 6 |\n",
       "| 22 | 271897486 | 1 | F | NA | NA | 28.54795 | 4 | 2 | DS | E | sin info | val  | 4 |\n",
       "| 43 | 267056618 | 0 | F | NA |  0 | 47.34795 | 4 | 4 | DS | E | sin info | otro | 6 |\n",
       "\n"
      ],
      "text/plain": [
       "  Cliente_Id Poliza_Id cancelada Sexo_Cd Nm_Estrato_Vivienda Numero_Hijos\n",
       "1  1         262093074 0         F       NA                  NA          \n",
       "2  2         251769194 1         F        3                  NA          \n",
       "3  5         261757926 1         F        2                   2          \n",
       "4  8         255314284 0         M        3                   0          \n",
       "5 22         271897486 1         F       NA                  NA          \n",
       "6 43         267056618 0         F       NA                   0          \n",
       "  edad     ingresos egresos estado ocupacion estudios depto antig\n",
       "1 26.63014 2        2       C      E         T        ant   4    \n",
       "2 35.84658 4        2       DS     E         sin info bog   4    \n",
       "3 38.41370 2        2       DS     I         sin info val   6    \n",
       "4 29.38630 4        4       DS     E         T        ant   6    \n",
       "5 28.54795 4        2       DS     E         sin info val   4    \n",
       "6 47.34795 4        4       DS     E         sin info otro  6    "
      ]
     },
     "metadata": {},
     "output_type": "display_data"
    }
   ],
   "source": [
    "# Generando la base de datos para la modelación\n",
    "data <- subset(poli_client, select= c(Cliente_Id, Poliza_Id, cancelada, Sexo_Cd, \n",
    "                  Nm_Estrato_Vivienda, Numero_Hijos,edad,\n",
    "                  ingresos,egresos,estado,ocupacion,estudios,depto,antig)\n",
    "                  )\n",
    "head(data)"
   ]
  },
  {
   "cell_type": "markdown",
   "metadata": {},
   "source": [
    "---\n",
    "## Generar el modelo de regresión logística\n",
    "---"
   ]
  },
  {
   "cell_type": "markdown",
   "metadata": {},
   "source": [
    "Se emplea la función $glm()$ con $family=\"binomial\"$ para ajustar modelos de regresión logística. Esta función predice por defecto el $log(ODDs)$ de la variable respuesta."
   ]
  },
  {
   "cell_type": "markdown",
   "metadata": {},
   "source": [
    "Para generar este primer modelo se tiene en cuenta todas las variables de las características de los clientes, excepto las de estudios, departamento y ocupación; debido a la gran cantidad de datos faltantes. \n",
    "\n",
    "$Nota:$ Se realizaron ejercicios adicionales a los presentados en este documento, donde se determinó que estas variables excluidas no tienen significacia para explicar la probabilidad de cancelación en las categorías agrupadas. \n"
   ]
  },
  {
   "cell_type": "code",
   "execution_count": 34,
   "metadata": {},
   "outputs": [
    {
     "data": {
      "text/plain": [
       "\n",
       "Call:\n",
       "glm(formula = cancelada ~ Sexo_Cd + antig + Nm_Estrato_Vivienda + \n",
       "    Numero_Hijos + +ingresos + egresos + estado + antig + edad, \n",
       "    family = binomial, data = data)\n",
       "\n",
       "Deviance Residuals: \n",
       "    Min       1Q   Median       3Q      Max  \n",
       "-1.7228  -0.7431  -0.6636   0.7701   1.9806  \n",
       "\n",
       "Coefficients:\n",
       "                     Estimate Std. Error z value Pr(>|z|)    \n",
       "(Intercept)          2.325642   0.098238  23.674  < 2e-16 ***\n",
       "Sexo_CdM             0.127378   0.025755   4.946 7.58e-07 ***\n",
       "antig               -0.524775   0.009591 -54.717  < 2e-16 ***\n",
       "Nm_Estrato_Vivienda -0.063775   0.009493  -6.718 1.84e-11 ***\n",
       "Numero_Hijos         0.034618   0.008742   3.960 7.50e-05 ***\n",
       "ingresos1            1.687118   1.382921   1.220 0.222478    \n",
       "ingresos2            0.024368   0.135985   0.179 0.857782    \n",
       "ingresos4           -0.016989   0.135796  -0.125 0.900438    \n",
       "egresos1            -0.801605   1.259271  -0.637 0.524409    \n",
       "egresos2            -0.414549   0.120052  -3.453 0.000554 ***\n",
       "egresos3            -0.527074   0.124768  -4.224 2.40e-05 ***\n",
       "egresos4            -0.466678   0.121359  -3.845 0.000120 ***\n",
       "estadoDS            -0.133484   0.030204  -4.419 9.90e-06 ***\n",
       "estadoU              0.258173   0.044891   5.751 8.87e-09 ***\n",
       "estadoV             -0.221670   0.099983  -2.217 0.026618 *  \n",
       "edad                 0.002538   0.001135   2.236 0.025345 *  \n",
       "---\n",
       "Signif. codes:  0 ‘***’ 0.001 ‘**’ 0.01 ‘*’ 0.05 ‘.’ 0.1 ‘ ’ 1\n",
       "\n",
       "(Dispersion parameter for binomial family taken to be 1)\n",
       "\n",
       "    Null deviance: 43119  on 35285  degrees of freedom\n",
       "Residual deviance: 38624  on 35270  degrees of freedom\n",
       "  (68955 observations deleted due to missingness)\n",
       "AIC: 38656\n",
       "\n",
       "Number of Fisher Scoring iterations: 4\n"
      ]
     },
     "metadata": {},
     "output_type": "display_data"
    }
   ],
   "source": [
    "model1 <- glm(cancelada ~ Sexo_Cd+antig+Nm_Estrato_Vivienda+Numero_Hijos+\n",
    "               +ingresos+egresos+estado+antig+edad,\n",
    "              family = binomial, data = data)\n",
    "summary(model1)"
   ]
  },
  {
   "cell_type": "markdown",
   "metadata": {},
   "source": [
    "---\n",
    "#### En este caso, el modelo obtenido sí es significativo.\n",
    "\n",
    "Para determinar si los predictores introducidos en un modelo de regresión logística contribuyen de forma significativa se emplea el estadístico $Z$ y el test Wald chi-test. Este es el método utilizado para calcular los p-values que se muestran al hacer $summary()$ del modelo. \n",
    "\n",
    "A diferencia de los modelos de regresión lineal, en los modelos logísticos no existe un equivalente a $R^2$ que determine exactamente la varianza explicada por el modelo. Se han desarrollado diferentes métodos conocidos como $pseudoR^2$ que intentan aproximarse al concepto de $R^2$ pero que, aunque su rango oscila entre 0 y 1, no se pueden considerar equivalentes.\n",
    "\n",
    "Sin embargo, también se tiene el criterio de $AIC$ (Akaike Information Criteria), el cual es equivalente de $R^2$ en regresión logística. Mide el ajuste cuando se aplica una penalización al número de parámetros. Los valores de AIC más pequeños indican que el modelo está más cerca de la verdad."
   ]
  },
  {
   "cell_type": "markdown",
   "metadata": {},
   "source": [
    "Por otra parte, se observa que todas las variables incluídas en el modelo son estadisticamente significativas al 95%, con excepción del nivel de ingresos. "
   ]
  },
  {
   "cell_type": "markdown",
   "metadata": {},
   "source": [
    "### Comparación de clasificación predicha y observaciones\n"
   ]
  },
  {
   "cell_type": "markdown",
   "metadata": {},
   "source": [
    "Para este caso se va a emplear un threshold de 0.5. Si la probabilidad de que la variable adquiera el valor 1 (póliza cancelada) es superior a 0.5, se asigna a este nivel, si es menor se asigna al 0 (no cancelada)."
   ]
  },
  {
   "cell_type": "code",
   "execution_count": 39,
   "metadata": {},
   "outputs": [
    {
     "data": {
      "text/plain": [
       "   \n",
       "    FALSE  TRUE\n",
       "  0 23304  1391\n",
       "  1  7154  3437"
      ]
     },
     "metadata": {},
     "output_type": "display_data"
    }
   ],
   "source": [
    "predict <- predict(model1, data, type = 'response')\n",
    "table_mat <- table(data$cancelada, predict > 0.5)\n",
    "table_mat"
   ]
  },
  {
   "cell_type": "code",
   "execution_count": 40,
   "metadata": {},
   "outputs": [
    {
     "data": {
      "text/html": [
       "0.757835968939523"
      ],
      "text/latex": [
       "0.757835968939523"
      ],
      "text/markdown": [
       "0.757835968939523"
      ],
      "text/plain": [
       "[1] 0.757836"
      ]
     },
     "metadata": {},
     "output_type": "display_data"
    }
   ],
   "source": [
    "accuracy_Test <- sum(diag(table_mat)) / sum(table_mat)\n",
    "accuracy_Test"
   ]
  },
  {
   "attachments": {},
   "cell_type": "markdown",
   "metadata": {},
   "source": [
    "El modelo es capáz de clasificar correctamente el 75.78% de las obsercaciones. Si se analiza en detalle cómo se distribuye el error, se aprecia que el modelo solo ha sido capaz de identificar correctamente a 3.437 clientes de 10.591 que cancelan su poliza. El porcentaje de falsos negativos es relativamente alto."
   ]
  },
  {
   "cell_type": "markdown",
   "metadata": {},
   "source": [
    "Para el siguiente paso se elimina la variable ingresos de la estimación debido a que no resultó significativa"
   ]
  },
  {
   "cell_type": "code",
   "execution_count": 43,
   "metadata": {},
   "outputs": [
    {
     "data": {
      "text/plain": [
       "\n",
       "Call:\n",
       "glm(formula = cancelada ~ Sexo_Cd + antig + Nm_Estrato_Vivienda + \n",
       "    Numero_Hijos + egresos + estado + antig + edad, family = binomial, \n",
       "    data = data)\n",
       "\n",
       "Deviance Residuals: \n",
       "    Min       1Q   Median       3Q      Max  \n",
       "-1.7253  -0.7434  -0.6636   0.7696   1.9799  \n",
       "\n",
       "Coefficients:\n",
       "                     Estimate Std. Error z value Pr(>|z|)    \n",
       "(Intercept)          2.336243   0.093104  25.093  < 2e-16 ***\n",
       "Sexo_CdM             0.127176   0.025749   4.939 7.85e-07 ***\n",
       "antig               -0.525841   0.009542 -55.106  < 2e-16 ***\n",
       "Nm_Estrato_Vivienda -0.064397   0.009471  -6.799 1.05e-11 ***\n",
       "Numero_Hijos         0.034659   0.008743   3.964 7.36e-05 ***\n",
       "egresos1             0.117743   0.871947   0.135   0.8926    \n",
       "egresos2            -0.415337   0.060160  -6.904 5.06e-12 ***\n",
       "egresos3            -0.542623   0.067462  -8.043 8.74e-16 ***\n",
       "egresos4            -0.482884   0.060816  -7.940 2.02e-15 ***\n",
       "estadoDS            -0.131856   0.030167  -4.371 1.24e-05 ***\n",
       "estadoU              0.259241   0.044875   5.777 7.61e-09 ***\n",
       "estadoV             -0.220184   0.099968  -2.203   0.0276 *  \n",
       "edad                 0.002468   0.001133   2.178   0.0294 *  \n",
       "---\n",
       "Signif. codes:  0 ‘***’ 0.001 ‘**’ 0.01 ‘*’ 0.05 ‘.’ 0.1 ‘ ’ 1\n",
       "\n",
       "(Dispersion parameter for binomial family taken to be 1)\n",
       "\n",
       "    Null deviance: 43119  on 35285  degrees of freedom\n",
       "Residual deviance: 38627  on 35273  degrees of freedom\n",
       "  (68955 observations deleted due to missingness)\n",
       "AIC: 38653\n",
       "\n",
       "Number of Fisher Scoring iterations: 4\n"
      ]
     },
     "metadata": {},
     "output_type": "display_data"
    }
   ],
   "source": [
    "model2 <- glm(cancelada ~ Sexo_Cd+antig+Nm_Estrato_Vivienda+Numero_Hijos+\n",
    "               egresos+estado+antig+edad,\n",
    "              family = binomial, data = data)\n",
    "summary(model2)"
   ]
  },
  {
   "cell_type": "markdown",
   "metadata": {},
   "source": [
    "---\n",
    "En este caso, las demás variables continuan siendo significativas ademas que el indicador AIC se reduce, aunque marginalmente, indicando que este modelo presenta un mejor ajuste que el aneterior. "
   ]
  },
  {
   "cell_type": "markdown",
   "metadata": {},
   "source": [
    "De nuevo, realizamos la comparación de las observaciones frente a la clasificación predicha, usando el mismo umbral que en el caso anterio para probabilidades superiores a 0.5:"
   ]
  },
  {
   "cell_type": "code",
   "execution_count": 45,
   "metadata": {},
   "outputs": [
    {
     "data": {
      "text/plain": [
       "   \n",
       "    FALSE  TRUE\n",
       "  0 23295  1400\n",
       "  1  7154  3437"
      ]
     },
     "metadata": {},
     "output_type": "display_data"
    }
   ],
   "source": [
    "predict <- predict(model2, data, type = 'response')\n",
    "table_mat <- table(data$cancelada, predict > 0.5)\n",
    "table_mat"
   ]
  },
  {
   "cell_type": "code",
   "execution_count": 46,
   "metadata": {},
   "outputs": [
    {
     "data": {
      "text/html": [
       "0.75758091027603"
      ],
      "text/latex": [
       "0.75758091027603"
      ],
      "text/markdown": [
       "0.75758091027603"
      ],
      "text/plain": [
       "[1] 0.7575809"
      ]
     },
     "metadata": {},
     "output_type": "display_data"
    }
   ],
   "source": [
    "accuracy_Test <- sum(diag(table_mat)) / sum(table_mat)\n",
    "accuracy_Test"
   ]
  },
  {
   "cell_type": "markdown",
   "metadata": {},
   "source": [
    "Observamos que la exactitud del modelo no varía significativamente, en cuanto a que el número de pólizas vigentes que se clasifican como no canceladas y el número de pólizas canceladas que se clasifican como tal es similar a los del modelo anterior."
   ]
  },
  {
   "cell_type": "markdown",
   "metadata": {},
   "source": [
    "### Interpretación de los coeficientes "
   ]
  },
  {
   "cell_type": "markdown",
   "metadata": {},
   "source": [
    "Ahora bien, una forma de faciliar la interpretación de los coeficientes es exponenciando: "
   ]
  },
  {
   "cell_type": "code",
   "execution_count": 47,
   "metadata": {},
   "outputs": [
    {
     "data": {
      "text/html": [
       "<dl class=dl-horizontal>\n",
       "\t<dt>(Intercept)</dt>\n",
       "\t\t<dd>10.3423052265123</dd>\n",
       "\t<dt>Sexo_CdM</dt>\n",
       "\t\t<dd>1.13561697666066</dd>\n",
       "\t<dt>antig</dt>\n",
       "\t\t<dd>0.591058340833966</dd>\n",
       "\t<dt>Nm_Estrato_Vivienda</dt>\n",
       "\t\t<dd>0.937633069285527</dd>\n",
       "\t<dt>Numero_Hijos</dt>\n",
       "\t\t<dd>1.03526700345358</dd>\n",
       "\t<dt>egresos1</dt>\n",
       "\t\t<dd>1.12495439940894</dd>\n",
       "\t<dt>egresos2</dt>\n",
       "\t\t<dd>0.660118067051919</dd>\n",
       "\t<dt>egresos3</dt>\n",
       "\t\t<dd>0.581221724802801</dd>\n",
       "\t<dt>egresos4</dt>\n",
       "\t\t<dd>0.617001313412506</dd>\n",
       "\t<dt>estadoDS</dt>\n",
       "\t\t<dd>0.876467213720125</dd>\n",
       "\t<dt>estadoU</dt>\n",
       "\t\t<dd>1.2959458278123</dd>\n",
       "\t<dt>estadoV</dt>\n",
       "\t\t<dd>0.802370897818068</dd>\n",
       "\t<dt>edad</dt>\n",
       "\t\t<dd>1.00247122871554</dd>\n",
       "</dl>\n"
      ],
      "text/latex": [
       "\\begin{description*}\n",
       "\\item[(Intercept)] 10.3423052265123\n",
       "\\item[Sexo\\textbackslash{}\\_CdM] 1.13561697666066\n",
       "\\item[antig] 0.591058340833966\n",
       "\\item[Nm\\textbackslash{}\\_Estrato\\textbackslash{}\\_Vivienda] 0.937633069285527\n",
       "\\item[Numero\\textbackslash{}\\_Hijos] 1.03526700345358\n",
       "\\item[egresos1] 1.12495439940894\n",
       "\\item[egresos2] 0.660118067051919\n",
       "\\item[egresos3] 0.581221724802801\n",
       "\\item[egresos4] 0.617001313412506\n",
       "\\item[estadoDS] 0.876467213720125\n",
       "\\item[estadoU] 1.2959458278123\n",
       "\\item[estadoV] 0.802370897818068\n",
       "\\item[edad] 1.00247122871554\n",
       "\\end{description*}\n"
      ],
      "text/markdown": [
       "(Intercept)\n",
       ":   10.3423052265123Sexo_CdM\n",
       ":   1.13561697666066antig\n",
       ":   0.591058340833966Nm_Estrato_Vivienda\n",
       ":   0.937633069285527Numero_Hijos\n",
       ":   1.03526700345358egresos1\n",
       ":   1.12495439940894egresos2\n",
       ":   0.660118067051919egresos3\n",
       ":   0.581221724802801egresos4\n",
       ":   0.617001313412506estadoDS\n",
       ":   0.876467213720125estadoU\n",
       ":   1.2959458278123estadoV\n",
       ":   0.802370897818068edad\n",
       ":   1.00247122871554\n",
       "\n"
      ],
      "text/plain": [
       "        (Intercept)            Sexo_CdM               antig Nm_Estrato_Vivienda \n",
       "         10.3423052           1.1356170           0.5910583           0.9376331 \n",
       "       Numero_Hijos            egresos1            egresos2            egresos3 \n",
       "          1.0352670           1.1249544           0.6601181           0.5812217 \n",
       "           egresos4            estadoDS             estadoU             estadoV \n",
       "          0.6170013           0.8764672           1.2959458           0.8023709 \n",
       "               edad \n",
       "          1.0024712 "
      ]
     },
     "metadata": {},
     "output_type": "display_data"
    }
   ],
   "source": [
    "exp(coefficients(model2))"
   ]
  },
  {
   "cell_type": "markdown",
   "metadata": {},
   "source": [
    "Lo que nos dice esto, por ejemplo, es que un cliente de sexo masculino tiene una mayor probabilidad de cancelar una póliza que un cliente femenino."
   ]
  },
  {
   "cell_type": "markdown",
   "metadata": {},
   "source": [
    "La implicaciones de este resultado para la estrategia de rentención y atracción de la empresa aseguradora son de gran importancia, ya que esto nos dice que para la estrategia de retención la compañía se debería centrar en aquellos perfiles de clientes que cumplan con determinadas características. Por ejemplo, un cliente hombre, con una antiguedad menor a 2 años en la empresa (como cliente), con un nivel de ingresos entre 1'200.001 y 3'000.000 y viviendo en unión libre, va a tener mayor probabilidad de cancelar su póliza que una mujer casada, con un mayor nivel de ingresos y sin hijos. "
   ]
  }
 ],
 "metadata": {
  "kernelspec": {
   "display_name": "R",
   "language": "R",
   "name": "ir"
  },
  "language_info": {
   "codemirror_mode": "r",
   "file_extension": ".r",
   "mimetype": "text/x-r-source",
   "name": "R",
   "pygments_lexer": "r",
   "version": "3.5.1"
  }
 },
 "nbformat": 4,
 "nbformat_minor": 2
}
